{
 "cells": [
  {
   "cell_type": "markdown",
   "metadata": {
    "colab_type": "text",
    "id": "view-in-github"
   },
   "source": [
    "<a href=\"https://colab.research.google.com/github/PGM-Lab/probai-2021-TAs/blob/main/Day2/notebooks/FA.ipynb\" target=\"_parent\"><img src=\"https://colab.research.google.com/assets/colab-badge.svg\" alt=\"Open In Colab\"/></a>"
   ]
  },
  {
   "cell_type": "markdown",
   "metadata": {
    "id": "02dd3230"
   },
   "source": [
    "## Setup\n",
    "Let's begin by installing and importing the modules we'll need."
   ]
  },
  {
   "cell_type": "code",
   "execution_count": 1,
   "metadata": {
    "id": "c8d4d7b1"
   },
   "outputs": [],
   "source": [
    "import matplotlib.pyplot as plt\n",
    "%matplotlib inline\n",
    "import numpy as np\n",
    "import seaborn as sns\n",
    "from scipy import special, stats\n",
    "from scipy.stats import gamma\n",
    "from scipy.stats import multivariate_normal\n",
    "from sklearn.datasets import make_spd_matrix\n",
    "import pandas as pd"
   ]
  },
  {
   "cell_type": "code",
   "execution_count": 2,
   "metadata": {
    "id": "0a0de6fa"
   },
   "outputs": [],
   "source": [
    "z_dim = 2\n",
    "np.random.seed(1)\n",
    "\n",
    "### DATA\n",
    "DATA_URL = \"https://raw.githubusercontent.com/PGM-Lab/probai-2021-pyro/main/Day2/prob_ai_data.csv\"\n",
    "data = pd.read_csv(DATA_URL).to_numpy()[:,1:]\n",
    "num_cases = data.shape[0]\n",
    "x_dim = data.shape[1]\n",
    "\n",
    "gamma_shape = 1E-3\n",
    "gamma_rate = 1E-3\n",
    "theta_shape = 1E-3 * np.ones(x_dim)\n",
    "theta_rate = 1E-3 * np.ones(x_dim)"
   ]
  },
  {
   "cell_type": "markdown",
   "metadata": {
    "id": "48829901"
   },
   "source": [
    "### Display the data"
   ]
  },
  {
   "cell_type": "code",
   "execution_count": 3,
   "metadata": {
    "colab": {
     "base_uri": "https://localhost:8080/",
     "height": 164
    },
    "id": "8843fe76",
    "outputId": "a58f237e-74cd-4765-c39c-a9cffde895d3"
   },
   "outputs": [
    {
     "data": {
      "text/plain": [
       "array([[-0.30990786, -0.97921874,  1.21638084,  1.99395218,  4.16729373],\n",
       "       [-0.28237305, -0.85110511,  1.10353218,  1.8818922 ,  3.87869654],\n",
       "       [-0.25114087, -0.66846738,  0.97119527,  1.81388174,  3.6254771 ],\n",
       "       ...,\n",
       "       [ 0.30831946,  1.5583143 , -1.27799259, -1.05879966, -2.98570836],\n",
       "       [ 0.31403247,  1.58902553, -1.30188648, -1.07551077, -3.0373844 ],\n",
       "       [ 0.31589855,  1.59831978, -1.30960546, -1.08213649, -3.05572788]])"
      ]
     },
     "metadata": {
      "tags": []
     },
     "output_type": "display_data"
    },
    {
     "name": "stdout",
     "output_type": "stream",
     "text": [
      "Data shape: (453, 5)\n"
     ]
    }
   ],
   "source": [
    "display(data)\n",
    "print(f\"Data shape: {data.shape}\")"
   ]
  },
  {
   "cell_type": "markdown",
   "metadata": {
    "id": "fe8d9a89"
   },
   "source": [
    "# Factor analysis"
   ]
  },
  {
   "cell_type": "markdown",
   "metadata": {
    "id": "e740b583"
   },
   "source": [
    "We will now analyze the data above using a factor analysis model. That is, we are interested in the representation of the data as conveyed by the latent variables in the model:\n",
    "\n",
    "<img src=\"https://github.com/PGM-Lab/probai-2021-pyro/raw/main/Day2/Figures/FA-model.png\" alt=\"Drawing\" width=800 >\n"
   ]
  },
  {
   "cell_type": "markdown",
   "metadata": {
    "id": "b22565e9"
   },
   "source": [
    "## Variational model"
   ]
  },
  {
   "cell_type": "markdown",
   "metadata": {
    "id": "ac45ac9b"
   },
   "source": [
    "We a variational approximation that factorizes as\n",
    "$$\n",
    "q({\\bf w}, {\\bf \\theta}, {\\bf z}, \\gamma) = \\prod_{j=1}^5q({\\bf w}_j)q(\\theta_j)\\prod _{i=1}^{453}q(z_i)q(\\gamma)\n",
    "$$"
   ]
  },
  {
   "cell_type": "markdown",
   "metadata": {
    "id": "bf389ccb"
   },
   "source": [
    "## Helper routine: Caluclate ELBO"
   ]
  },
  {
   "cell_type": "code",
   "execution_count": 4,
   "metadata": {
    "id": "0278b326"
   },
   "outputs": [],
   "source": [
    "def evidence_lower_bound():\n",
    "\n",
    "    elbo = 0\n",
    "\n",
    "    # Entropy for...\n",
    "    # ###############################\n",
    "\n",
    "    # ... gamma:\n",
    "    # Entropy contribution from gamma:\n",
    "    # a - ln(b) +  ln(Gamma(a)) + (1-a) digamma(a)\n",
    "    # a = shape, beta = rate\n",
    "    # Calculate using scipy gamma distribution by\n",
    "    #   1)  stats.gamma.entropy(a=q_gamma_shape) - np.log(q_gamma_rate)\n",
    "    #   2)  stats.gamma.entropy(a=q_gamma_shape, scale=1. / q_gamma_rate)\n",
    "\n",
    "    elbo += stats.gamma.entropy(a=q_gamma_shape, scale=1. / q_gamma_rate)\n",
    "\n",
    "    # ... theta-vector:\n",
    "    for j in range(x_dim):\n",
    "        elbo += stats.gamma.entropy(a=q_theta_shape[j],\n",
    "                                    scale=1. / q_theta_rate[j])\n",
    "\n",
    "    # ... z\n",
    "    for i in range(num_cases):\n",
    "        elbo += stats.multivariate_normal.entropy(mean=q_z_matrix_mean[i, :], cov=q_z_matrix_covariance)\n",
    "\n",
    "    # ... and w:\n",
    "    for j in range(x_dim):\n",
    "        elbo += stats.multivariate_normal.entropy(mean=q_w_matrix_mean[:, j],\n",
    "                                                  cov=q_w_matrix_covariance[:, :, j])\n",
    "\n",
    "    #\n",
    "    # Log likelihood terms:\n",
    "    # ##########################\n",
    "\n",
    "    # log-likelihood term for Z is Gaussian shaped, with zero mean and I variance.\n",
    "    # Expected Z'Z is equal to inv(prec) + EZ' EZ, which gives the contribution\n",
    "    z_likelihood_contribution = - .5 * z_dim * num_cases * np.log(2 * np.pi) \\\n",
    "                                - .5 * np.sum(1.0 / np.diagonal(q_z_matrix_prec) + q_z_matrix_mean ** 2)\n",
    "    elbo += z_likelihood_contribution\n",
    "\n",
    "    # log-likelihood term gamma:\n",
    "    # gamma = shape, beta = rate\n",
    "    # a * log(b) - log-gamma(a) + (a-1)*E[log(X)] - b*E[x]\n",
    "    # E[log(X)] = -ln(b) + digamma(a) ,  E[X] = a/b\n",
    "\n",
    "    elbo += \\\n",
    "        gamma_shape * np.log(gamma_rate) - special.gammaln(gamma_shape) \\\n",
    "        + (gamma_shape - 1) * expected_log_gamma - gamma_rate * expected_gamma\n",
    "\n",
    "    # log-likelihood term theta:\n",
    "    # As for gamma, but remember we have a vector of length (x_dim)\n",
    "\n",
    "    for j in range(x_dim):\n",
    "        elbo += theta_shape[j] * np.log(theta_rate[j]) - special.gammaln(theta_shape[j]) + \\\n",
    "                (theta_shape[j] - 1) * expected_log_theta[j] \\\n",
    "                - theta_rate[j] * expected_theta[j]\n",
    "\n",
    "    # log-likelihood term W is Gaussian shaped with mean 0 and prec gamma * I.\n",
    "    #  Contribution from expected W^2 equal to inv(prec) + (EW)(EW)':\n",
    "    # Now that Cov(W) is a full-dim matrix; the variational approximation has shape (z_dim, z_dim, x_dim).\n",
    "    # We do the calculation as a loop over the x-dim:\n",
    "    for j in range(x_dim):\n",
    "        expected_w_square = np.sum(1.0 / np.diagonal(q_w_matrix_prec[:, :, j])\n",
    "                                   + q_w_matrix_mean[:, j] ** 2)\n",
    "\n",
    "        elbo += \\\n",
    "            - .5 * z_dim * np.log(2 * np.pi) \\\n",
    "            + .5 * z_dim * expected_log_gamma \\\n",
    "            - .5 * expected_w_square * expected_gamma\n",
    "\n",
    "    # log likelihood term for x_ij is Gaussian shaped, with expected value w_j'z_i and\n",
    "    # precision theta_j. Contribution to elbo is of type E[ (x_{ij} - w_j * z_i) ** 2  ].\n",
    "    # This kernel is a bit tedious to calculate:\n",
    "    x_likelihood_contribution = 0\n",
    "    for i in range(num_cases):\n",
    "        # z has dim (num_cases, z_dim)\n",
    "        exp_z_z_transpose = np.matmul(q_z_matrix_mean[i, :].reshape([z_dim, 1]),\n",
    "                                      q_z_matrix_mean[i, :].reshape([1, z_dim])) \\\n",
    "                            + q_z_matrix_covariance\n",
    "        for j in range(x_dim):\n",
    "            # z has dim (z_dim, x_dim)\n",
    "            expected_w_w_transpose = np.matmul(q_w_matrix_mean[:, j].reshape([z_dim, 1]),\n",
    "                                               q_w_matrix_mean[:, j].reshape([1, z_dim])) \\\n",
    "                                     + q_w_matrix_covariance[:, :, j]\n",
    "\n",
    "            x_likelihood_contribution += \\\n",
    "                - .5 * np.log(2 * np.pi) \\\n",
    "                + .5 * expected_log_theta[j] \\\n",
    "                - .5 * expected_theta[j] * (\n",
    "                        data[i, j] ** 2\n",
    "                        - 2 * data[i, j] * np.matmul(q_z_matrix_mean[i, :], q_w_matrix_mean[:, j])\n",
    "                        + np.trace(np.matmul(expected_w_w_transpose, exp_z_z_transpose)))\n",
    "\n",
    "    elbo += x_likelihood_contribution\n",
    "\n",
    "    return elbo\n"
   ]
  },
  {
   "cell_type": "markdown",
   "metadata": {
    "id": "8311430c"
   },
   "source": [
    "## Initialize the variational distributions"
   ]
  },
  {
   "cell_type": "code",
   "execution_count": 5,
   "metadata": {
    "id": "75cace82"
   },
   "outputs": [],
   "source": [
    "# Initialize the variational parameters\n",
    "# Z: matrix of size [num_cases, z_dim]\n",
    "# We will keep both variance and prec of Z explicitly\n",
    "q_z_matrix_mean = np.random.normal(0, 1, (num_cases, z_dim))\n",
    "q_z_matrix_prec = np.identity(n=z_dim)\n",
    "q_z_matrix_covariance = np.identity(n=z_dim)\n",
    "\n",
    "# W: matrix of size [z_dim, x_dim]\n",
    "# We will keep both variance and prec of W explicitly\n",
    "q_w_matrix_mean = np.random.normal(0, 1, (z_dim, x_dim))\n",
    "q_w_matrix_prec = np.zeros((z_dim, z_dim, x_dim))\n",
    "q_w_matrix_covariance = np.zeros((z_dim, z_dim, x_dim))\n",
    "for j in range(z_dim):\n",
    "    q_w_matrix_prec[j, j, :] = 1.\n",
    "    q_w_matrix_covariance[j, j, :] = 1.\n",
    "\n",
    "# gamma: Scalar\n",
    "q_gamma_shape = 1\n",
    "q_gamma_rate = 1\n",
    "# We also calculate some expected values to be used during updating\n",
    "expected_gamma = q_gamma_shape / q_gamma_rate\n",
    "expected_log_gamma = - np.log(q_gamma_rate) + special.digamma(q_gamma_shape)\n",
    "\n",
    "# Theta: Vector size [x_dim]\n",
    "q_theta_shape = np.ones(x_dim)\n",
    "q_theta_rate = np.ones(x_dim)\n",
    "# We also calculate some expected values to be used during updating\n",
    "expected_theta = q_theta_shape / q_theta_rate\n",
    "expected_log_theta = - np.log(q_theta_rate) + special.digamma(q_theta_shape)\n"
   ]
  },
  {
   "cell_type": "markdown",
   "metadata": {
    "id": "6c58cd40"
   },
   "source": [
    "## Updating rules for the variational distributions\n",
    "\n",
    "Note that only two if the updating rules are given in the slides"
   ]
  },
  {
   "cell_type": "code",
   "execution_count": 6,
   "metadata": {
    "id": "9b958999"
   },
   "outputs": [],
   "source": [
    "def update_gamma():\n",
    "    q_gamma_shape = gamma_shape + .5 * z_dim * x_dim\n",
    "    sum_squared = 0\n",
    "    for j in range(x_dim):\n",
    "        sum_squared += np.sum(1. / np.diagonal(q_w_matrix_prec[:, :, j]) +\n",
    "                              q_w_matrix_mean[:, j] ** 2)\n",
    "    q_gamma_rate = gamma_rate + 0.5 * sum_squared\n",
    "\n",
    "    expected_gamma = q_gamma_shape / q_gamma_rate\n",
    "    expected_log_gamma = - np.log(q_gamma_rate) + special.digamma(q_gamma_shape)\n",
    "    \n",
    "    return q_gamma_shape, q_gamma_rate, expected_gamma, expected_log_gamma"
   ]
  },
  {
   "cell_type": "code",
   "execution_count": 7,
   "metadata": {
    "id": "f4f3578e"
   },
   "outputs": [],
   "source": [
    "def update_z_matrix():\n",
    "\n",
    "    # Z is a matrix of shape [num_cases, z_dim].\n",
    "    # We will update Z_i one by one, where i is the first index  -- over observations\n",
    "    # Theta is a vector of length x_dim, unexplained noise for X_{*, j} -- the j'th attribute\n",
    "    # W is a matrix of shape [z_dim, x_dim]\n",
    "    # We will consider each W[*, j] in turn. It is a vector of length z-dim\n",
    "\n",
    "    # Update rules: Z remains Gaussian, precision and mean as given below\n",
    "\n",
    "    # First calculate precision.\n",
    "    # Q_i = I + \\sum_j E[theta_j] * E [W_j * W_j']\n",
    "    # Notice how it is the same for all i, hence do this once\n",
    "    # Expand the sum over j explicitly\n",
    "    # We will keep the full precision matrix (inverse covariance) over Z_i -- it has shape [z_dim, z_dim]\n",
    "    new_prec = np.identity(n=z_dim)\n",
    "    for j in range(x_dim):\n",
    "        expected_w_j_w_j_transpose = q_w_matrix_covariance[:, :, j] + \\\n",
    "                                     np.matmul(q_w_matrix_mean[:, j].reshape((z_dim, 1)),\n",
    "                                               q_w_matrix_mean[:, j].reshape((1, z_dim)))\n",
    "        new_prec += expected_theta[j] * expected_w_j_w_j_transpose\n",
    "\n",
    "    q_z_matrix_prec = new_prec\n",
    "    q_z_matrix_covariance = np.linalg.inv(new_prec)\n",
    "\n",
    "    # mean_i = Q_i^{-1} * sum_{j} x_ij * + E[theta_j] *  E[W_j]\n",
    "    for i in range(num_cases):\n",
    "        new_mean = 0\n",
    "        for j in range(x_dim):\n",
    "            new_mean += data[i, j] * expected_theta[j] * q_w_matrix_mean[:, j]\n",
    "        new_mean = np.matmul(q_z_matrix_covariance, new_mean)\n",
    "        q_z_matrix_mean[i, :] = new_mean\n",
    "    \n",
    "    return q_z_matrix_prec, q_z_matrix_covariance, q_z_matrix_mean "
   ]
  },
  {
   "cell_type": "code",
   "execution_count": 8,
   "metadata": {
    "id": "6d740e23"
   },
   "outputs": [],
   "source": [
    "def update_w_matrix():\n",
    "\n",
    "    # W is a matrix of shape [z_dim, x_dim].\n",
    "    # Theta is a vector of length x_dim, unexplained noise for X_{*, j} -- the j'th attribute\n",
    "    # Gamma is a scalar -- the prior variance for each and every W-entry\n",
    "    # Z is a matrix of shape [num_cases, z_dim]\n",
    "    # It has variational expectation q_z_matrix_mean with shape  [num_cases, z_dim] and\n",
    "    # variational precision q_z_matrix_prec. The prec has shape [z_dim, z_dim] as we take care of the full\n",
    "    # covariance, and utilize that all precisions (for each observation) is the same for each observation.\n",
    "    # We will update W[:, j] one by one, where j is the second index  -- over attributes for the observation\n",
    "\n",
    "    # Update rules: W remains Gaussian, precision and mean as given below\n",
    "\n",
    "    # First calculate precision.\n",
    "    # Q_j = E[gamma] * I + E[theta_j] *  \\sum_i  E [Z_i * Z_i']\n",
    "    # In contrast to the result for Z_i, this one is *not* the same for each j.\n",
    "\n",
    "    sum_expected_square_z = num_cases * q_z_matrix_covariance\n",
    "    for i in range(num_cases):\n",
    "        sum_expected_square_z += np.matmul(q_z_matrix_mean[i, :].reshape((z_dim, 1)),\n",
    "                                           q_z_matrix_mean[i, :].reshape((1, z_dim)))\n",
    "\n",
    "    for j in range(x_dim):\n",
    "        q_w_matrix_prec[:, :, j] = expected_gamma * np.identity(n=z_dim) + \\\n",
    "                                        expected_theta[j] * sum_expected_square_z\n",
    "        q_w_matrix_covariance[:, :, j] = np.linalg.inv(q_w_matrix_prec[:, :, j])\n",
    "\n",
    "    # mean_j = Q_j^{-1} *  E[theta_j] sum_{i} x_ij * E[Z_i]\n",
    "    for j in range(z_dim):\n",
    "        weighted_sum_latent = np.matmul(np.transpose(data[:, j]), q_z_matrix_mean)\n",
    "        q_w_matrix_mean[:, j] = \\\n",
    "            expected_theta[j] * np.matmul(q_w_matrix_covariance[:, :, j], weighted_sum_latent)\n",
    "        \n",
    "    return q_w_matrix_prec, q_w_matrix_covariance, q_w_matrix_mean "
   ]
  },
  {
   "cell_type": "code",
   "execution_count": 9,
   "metadata": {
    "id": "52ad46fc"
   },
   "outputs": [],
   "source": [
    "def update_theta():\n",
    "    # Theta is a vector of length (x-dim)\n",
    "    # Theta_j is the unexplained precision for attribute j.\n",
    "    # Remember shapes:\n",
    "    #   W is a matrix of shape [z_dim, x_dim].\n",
    "    #   Z is a matrix of shape [num_cases, z_dim]\n",
    "    #   data is a matrix of shape [num_cases, x_dim]\n",
    "    #\n",
    "    # Update rule: Remains Gamma distributed.\n",
    "    #\n",
    "    # Shape <- a  + num_cases / 2 -- for all j\n",
    "    new_shape = theta_shape + .5 * num_cases\n",
    "    q_theta_shape = new_shape\n",
    "\n",
    "    # Rate[j] <- b[j] + .5 * sum_i E{ [x_ij - w_j\\trans z_i]**2 }\n",
    "    # The elements in the sum can be expanded as\n",
    "    #       x_ij ** 2 - 2 * x_ij * E[W_j]\\trans E[Z_i] + trace( E(W_j W_j') * E(Z_i Z_i') )\n",
    "\n",
    "    for j in range(x_dim):\n",
    "        # W has dim (z_dim, x_dim)\n",
    "        # exp_w_w_transpose picks out for one j W_j of shape [z_dim], and\n",
    "        # calculates the matrix Exp[W_j W_j\\trans ].\n",
    "        # This is Exp[W_j]*E[W_j]\\trans + Variance elements\n",
    "        exp_w_w_transpose = np.matmul(q_w_matrix_mean[:, j].reshape([z_dim, 1]),\n",
    "                                      q_w_matrix_mean[:, j].reshape([1, z_dim])) \\\n",
    "                            + q_w_matrix_covariance[:, :, j]\n",
    "\n",
    "        sum_of_squared_offsets = 0\n",
    "        # Z has dim (num_cases, z_dim). Do same operation as above to find Exp[Z_i Z_i\\trans ]\n",
    "        # Afterwards, both these matrices are of shape [z_dim, z_dim and we can multiply them together]\n",
    "        for i in range(num_cases):\n",
    "            exp_z_square = np.matmul(q_z_matrix_mean[i, :].reshape([z_dim, 1]),\n",
    "                                     q_z_matrix_mean[i, :].reshape([1, z_dim])) \\\n",
    "                           + q_z_matrix_covariance\n",
    "            sum_of_squared_offsets += \\\n",
    "                data[i, j] ** 2 \\\n",
    "                - 2 * data[i, j] * np.matmul(q_z_matrix_mean[i, :], q_w_matrix_mean[:, j]) \\\n",
    "                + np.trace(np.matmul(exp_w_w_transpose, exp_z_square))\n",
    "\n",
    "        q_theta_rate[j] = theta_rate[j] + .5 * sum_of_squared_offsets\n",
    "\n",
    "    expected_theta = q_theta_shape / q_theta_rate\n",
    "    expected_log_theta = - np.log(q_theta_rate) + special.digamma(q_theta_shape)\n",
    "    \n",
    "    return q_theta_shape, q_theta_rate, expected_theta, expected_log_theta"
   ]
  },
  {
   "cell_type": "markdown",
   "metadata": {
    "id": "f463cf6e"
   },
   "source": [
    "## Inference"
   ]
  },
  {
   "cell_type": "code",
   "execution_count": 10,
   "metadata": {
    "colab": {
     "base_uri": "https://localhost:8080/"
    },
    "id": "3486647f",
    "outputId": "c80080c0-a3d4-4e4a-d6f3-4bd9dfc3abdc"
   },
   "outputs": [
    {
     "name": "stdout",
     "output_type": "stream",
     "text": [
      "ELBO at iteration   0: -3089.114119670793\n",
      "ELBO at iteration  10: -828.434173086067\n",
      "ELBO at iteration  20: -116.91890211061445\n",
      "ELBO at iteration  30: -3.098158349325786\n",
      "ELBO at iteration  40: 9.69000352159128\n",
      "ELBO at iteration  50: 15.196258443297666\n",
      "ELBO at iteration  60: 20.288189635618437\n",
      "ELBO at iteration  70: 25.44764327111352\n",
      "ELBO at iteration  80: 30.721041555706506\n",
      "ELBO at iteration  90: 36.11940159424921\n"
     ]
    }
   ],
   "source": [
    "old_elbo = new_elbo = -np.infty\n",
    "num_iter = 100\n",
    "elbo_values = []\n",
    "for iteration in range(num_iter):\n",
    "\n",
    "    # Doing Z:\n",
    "    q_z_matrix_prec, q_z_matrix_covariance, q_z_matrix_mean = update_z_matrix()\n",
    "  \n",
    "    # Doing W:\n",
    "    q_w_matrix_prec, q_w_matrix_covariance, q_w_matrix_mean =update_w_matrix()\n",
    "  \n",
    "    # Theta:\n",
    "    q_theta_shape, q_theta_rate, expected_theta, expected_log_theta = update_theta()\n",
    "  \n",
    "    # Gamma:\n",
    "    q_gamma_shape, q_gamma_rate, expected_gamma, expected_log_gamma = update_gamma()\n",
    "  \n",
    "    new_elbo = evidence_lower_bound()   # Check if we are done\n",
    "    if iteration > 1 and abs((new_elbo - elbo_values[-1]) / new_elbo) < - 1E-8:\n",
    "        # No need to go on\n",
    "        break\n",
    "\n",
    "    if iteration % 10 == 0:\n",
    "        print(f\"ELBO at iteration {iteration:3}: {new_elbo}\")\n",
    "        \n",
    "    # Remember the new elbo value for nice plots\n",
    "    elbo_values.append(new_elbo)\n",
    "    old_elbo = new_elbo"
   ]
  },
  {
   "cell_type": "markdown",
   "metadata": {
    "id": "b79b908c"
   },
   "source": [
    "### Plot the evolution in the ELBO values"
   ]
  },
  {
   "cell_type": "code",
   "execution_count": 11,
   "metadata": {
    "colab": {
     "base_uri": "https://localhost:8080/",
     "height": 297
    },
    "id": "9f4fb86a",
    "outputId": "0b1539e0-6ae2-4415-a1bd-ffd89a8c2796"
   },
   "outputs": [
    {
     "data": {
      "text/plain": [
       "Text(0, 0.5, 'ELBO')"
      ]
     },
     "execution_count": 11,
     "metadata": {
      "tags": []
     },
     "output_type": "execute_result"
    },
    {
     "data": {
      "image/png": "[encoded data removed]",
      "text/plain": [
       "<Figure size 432x288 with 1 Axes>"
      ]
     },
     "metadata": {
      "needs_background": "light",
      "tags": []
     },
     "output_type": "display_data"
    }
   ],
   "source": [
    "plt.plot(range(num_iter), elbo_values)\n",
    "plt.xlabel('Number of iterations')\n",
    "plt.ylabel(\"ELBO\")"
   ]
  },
  {
   "cell_type": "markdown",
   "metadata": {
    "id": "c0929654"
   },
   "source": [
    "### Investigate the latent representarion of the data"
   ]
  },
  {
   "cell_type": "code",
   "execution_count": 12,
   "metadata": {
    "id": "0cfb12ac"
   },
   "outputs": [],
   "source": [
    "# We have a 2-dimensional latent space, which we can visualize (in this case we only consider the mean values)\n",
    "x, y= zip(*q_z_matrix_mean)"
   ]
  },
  {
   "cell_type": "code",
   "execution_count": 13,
   "metadata": {
    "colab": {
     "base_uri": "https://localhost:8080/",
     "height": 283
    },
    "id": "cc288c32",
    "outputId": "9a8acfbe-4c6e-4840-aea2-567a945dc8b2"
   },
   "outputs": [
    {
     "data": {
      "text/plain": [
       "<matplotlib.collections.PathCollection at 0x7f85983a0ad0>"
      ]
     },
     "execution_count": 13,
     "metadata": {
      "tags": []
     },
     "output_type": "execute_result"
    },
    {
     "data": {
      "image/png": "[encoded data removed]",
      "text/plain": [
       "<Figure size 432x288 with 1 Axes>"
      ]
     },
     "metadata": {
      "needs_background": "light",
      "tags": []
     },
     "output_type": "display_data"
    }
   ],
   "source": [
    "plt.scatter(x,y)"
   ]
  },
  {
   "cell_type": "code",
   "execution_count": 13,
   "metadata": {
    "id": "e8242492"
   },
   "outputs": [],
   "source": []
  }
 ],
 "metadata": {
  "colab": {
   "include_colab_link": true,
   "name": "FA.ipynb",
   "provenance": []
  },
  "kernelspec": {
   "display_name": "Python 3",
   "language": "python",
   "name": "python3"
  },
  "language_info": {
   "codemirror_mode": {
    "name": "ipython",
    "version": 3
   },
   "file_extension": ".py",
   "mimetype": "text/x-python",
   "name": "python",
   "nbconvert_exporter": "python",
   "pygments_lexer": "ipython3",
   "version": "3.6.6"
  }
 },
 "nbformat": 4,
 "nbformat_minor": 5
}
